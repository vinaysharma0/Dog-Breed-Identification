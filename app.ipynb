{
 "cells": [
  {
   "cell_type": "code",
   "execution_count": 51,
   "metadata": {},
   "outputs": [
    {
     "name": "stdout",
     "output_type": "stream",
     "text": [
      "1 10222\n",
      "1 10357\n"
     ]
    }
   ],
   "source": [
    "from tkinter import *\n",
    "\n",
    "# loading Python Imaging Library \n",
    "from PIL import ImageTk, Image \n",
    "\n",
    "# To get the dialog box to open when required \n",
    "from tkinter import filedialog \n",
    "from breed_iden import *"
   ]
  },
  {
   "cell_type": "code",
   "execution_count": 52,
   "metadata": {},
   "outputs": [],
   "source": [
    "def openfilename(): \n",
    "\n",
    "\t# open file dialog box to select image \n",
    "\t# The dialogue box has a title \"Open\" \n",
    "\tfilename = filedialog.askopenfilename() \n",
    "\treturn filename \n"
   ]
  },
  {
   "cell_type": "code",
   "execution_count": 53,
   "metadata": {},
   "outputs": [],
   "source": [
    "def open_img(): \n",
    "    # Select the Imagename  from a folder  \n",
    "    x = openfilename() \n",
    "  \n",
    "    # opens the image \n",
    "    img = Image.open(x) \n",
    "      \n",
    "    # resize the image and apply a high-quality down sampling filter \n",
    "    img = img.resize((250, 250), Image.ANTIALIAS) \n",
    "  \n",
    "    # PhotoImage class is used to add image to widgets, icons etc \n",
    "    img = ImageTk.PhotoImage(img) \n",
    "   \n",
    "    # create a label \n",
    "    panel = Label(root, image = img) \n",
    "      \n",
    "    # set the image as img  \n",
    "    panel.image = img \n",
    "    panel.grid(row = 2) \n",
    "    Label(root, text = 'dummy' ).place(x = 400,y = 250)  \n",
    "    return img"
   ]
  },
  {
   "cell_type": "code",
   "execution_count": 48,
   "metadata": {},
   "outputs": [],
   "source": [
    "# Create a windoe \n",
    "root = Tk() \n",
    "\n",
    "# Set Title as Image Loader \n",
    "root.title(\"Image Loader\") \n",
    "#text...........................\n",
    "\n",
    "# Set the resolution of window \n",
    "root.geometry(\"600x600\") \n",
    "\n",
    "# Allow Window to be resizable \n",
    "root.resizable(width = True, height = True) \n",
    "\n",
    "# Create a button and place it into the window using grid layout \n",
    "btn = Button(root, text ='open image', command = open_img).grid(row = 1, columnspan = 4) \n",
    "root.mainloop() \n"
   ]
  }
 ],
 "metadata": {
  "kernelspec": {
   "display_name": "Python 3",
   "language": "python",
   "name": "python3"
  },
  "language_info": {
   "codemirror_mode": {
    "name": "ipython",
    "version": 3
   },
   "file_extension": ".py",
   "mimetype": "text/x-python",
   "name": "python",
   "nbconvert_exporter": "python",
   "pygments_lexer": "ipython3",
   "version": "3.7.3"
  }
 },
 "nbformat": 4,
 "nbformat_minor": 4
}
